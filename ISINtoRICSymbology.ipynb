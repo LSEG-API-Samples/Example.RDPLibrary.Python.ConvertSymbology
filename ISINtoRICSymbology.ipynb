{
 "cells": [
  {
   "cell_type": "markdown",
   "id": "a2accade-12cc-4159-b3f5-a33cf5fb1e3c",
   "metadata": {},
   "source": [
    "## Symbology Conversion Example\n",
    "This is a simple notebook I created for a customer, demonstrating how to convert ISINs (or other Symbology) to RICs using the Refinitiv Data Platform Symbology API.\n",
    "Whilst, I will be working with ISINs and RICs, the API supports other types such as:\n",
    "- RIC\n",
    "- ISIN\n",
    "- CUSIP\n",
    "- SEDOL\n",
    "- LEI (Legal Entity Identifier)\n",
    "- PermID\n",
    "- others...\n",
    "\n",
    "Note that whilst the Symbology API is quiet flexible, it may not always be possible to convert a symbol from one type to another - based on the to/from type combination and asset class involved etc.\n",
    "\n",
    "Please refer to the following, for further details:\n",
    "- [Symbology API Reference](https://apidocs.refinitiv.com/Apps/ApiDocs#/details/L2Rpc2NvdmVyeS9zeW1ib2xvZ3kvdjE=/L2xvb2t1cA==/POST/README) - in particular, the section *'identifier types covered by asset class'*\n",
    "- [Symbology API User Guide](https://developers.refinitiv.com/en/api-catalog/refinitiv-data-platform/refinitiv-data-platform-apis/documentation#symbology-user-guide)\n",
    "\n",
    "I will be using the [RDP Python Library](https://developers.refinitiv.com/en/api-catalog/refinitiv-data-platform/refinitiv-data-platform-libraries) to keep things simple. The RDP Library is a ease of wrapper for the RDP APIs and is available in Python, .NET and soon in Typescript.\n",
    "\n",
    "However, if you are not using one of the above languages, you can still access the Symbology API and the other RDP APIs via a HTTP RESTful interface - as [detailed here](https://developers.refinitiv.com/en/api-catalog/refinitiv-data-platform/refinitiv-data-platform-apis/tutorials#introduction-to-the-request-response-api)\n",
    "\n",
    "**NOTES:** \n",
    "- The Symbology API is only available bundled with other RDP Products - please speak to your  Refinitiv Account team for further Details\n",
    "- Whilst the RDP Library has a built in *convert_symbols()* function, this call actually uses the RDP Search API - which requires a different licence.\n",
    "\n"
   ]
  },
  {
   "cell_type": "code",
   "execution_count": null,
   "id": "465f0126",
   "metadata": {},
   "outputs": [],
   "source": [
    "import refinitiv.dataplatform as rdp\n",
    "import json\n",
    "import os, sys"
   ]
  },
  {
   "cell_type": "markdown",
   "id": "0e2fbc8d-5882-4718-a352-45d6efc92c9b",
   "metadata": {},
   "source": [
    "#### I am going to read my Access Credentials from my ENV variables - replace with your Access credentials...\n",
    "For details on Access Credentials, please see the [RDP Library Quick Start](https://developers.refinitiv.com/en/api-catalog/refinitiv-data-platform/refinitiv-data-platform-libraries/quick-start)\n"
   ]
  },
  {
   "cell_type": "code",
   "execution_count": null,
   "id": "8a9e3bbe-8ddb-4af0-bab6-5afbdaf6c4f3",
   "metadata": {},
   "outputs": [],
   "source": [
    "APP_KEY = os.environ['APP_KEY'] # Required for RDP Platform and Desktop Session\n",
    "RDP_LOGIN = os.environ['RDP_LOGIN'] # Required for RDP Platform Session\n",
    "RDP_PASSWORD= os.environ['RDP_PASSWORD'] # Required for RDP Platform Session"
   ]
  },
  {
   "cell_type": "markdown",
   "id": "fc507dff-46a8-4c12-b81c-dc4270581394",
   "metadata": {},
   "source": [
    "### Create a session to connect to Refinitiv Data Platform"
   ]
  },
  {
   "cell_type": "code",
   "execution_count": null,
   "id": "30d8ae71-d073-4082-954a-1749833b703e",
   "metadata": {},
   "outputs": [],
   "source": [
    "session = rdp.open_platform_session(APP_KEY,\n",
    "    rdp.GrantPassword( username=RDP_LOGIN, \n",
    "                      password=RDP_PASSWORD )\n",
    ")"
   ]
  },
  {
   "cell_type": "markdown",
   "id": "2fc7d580-f726-4fb3-a8f3-d164749f2346",
   "metadata": {},
   "source": [
    "### OR - for Eikon/Workspace application running on the same PC"
   ]
  },
  {
   "cell_type": "code",
   "execution_count": null,
   "id": "6b069339-24ef-45a5-8fff-68bd452515a5",
   "metadata": {},
   "outputs": [],
   "source": [
    "session = rdp.open_desktop_session(APP_KEY)"
   ]
  },
  {
   "cell_type": "code",
   "execution_count": null,
   "id": "a88b048d",
   "metadata": {},
   "outputs": [],
   "source": [
    "# Read my ISINs in from a file - replace with your input symbols...\n",
    "try:\n",
    "    with open('SampleISINs.txt', 'r') as f:  # Read one RIC per line from file\n",
    "            isins = [isin.strip(' \\t\\n\\r') for isin in f]  # and strip any whitespace etc\n",
    "except FileNotFoundError as fnf_error:\n",
    "        print(fnf_error)"
   ]
  },
  {
   "cell_type": "markdown",
   "id": "650ff02c-b3ac-4a84-addd-749c259e1b6e",
   "metadata": {},
   "source": [
    "#### 1st pass - try and get the Primary RIC for each ISIN. \n",
    "#### Should cover most ISINs "
   ]
  },
  {
   "cell_type": "code",
   "execution_count": null,
   "id": "fd54c479",
   "metadata": {
    "tags": []
   },
   "outputs": [],
   "source": [
    "symbologylookup_endpoint = rdp.Endpoint(session, \n",
    "    'https://api.refinitiv.com/discovery/symbology/v1/lookup')\n",
    "\n",
    "request_body={\n",
    "  \"from\": [\n",
    "    {\n",
    "      \"identifierTypes\": [\n",
    "        \"ISIN\"\n",
    "      ],\n",
    "      \"values\": isins\n",
    "    }\n",
    "  ],\n",
    "  \"to\": [\n",
    "    {\n",
    "      \"identifierTypes\": [\n",
    "        \"RIC\"\n",
    "      ]\n",
    "    }\n",
    "  ],\n",
    "  \"path\": [\n",
    "    {\n",
    "      \"relationshipTypes\": [\n",
    "        \"InverseIsValuationQuoteOf\"\n",
    "      ],\n",
    "      \"objectTypes\": [\n",
    "        {\n",
    "          \"from\": \"AnyInstrument\",\n",
    "          \"to\": \"AnyQuote\"\n",
    "        }\n",
    "      ]\n",
    "    }\n",
    "  ],\n",
    "  \"type\": \"strict\"\n",
    "}\n",
    "\n",
    "\n",
    "response = symbologylookup_endpoint.send_request(\n",
    "    method = rdp.Endpoint.RequestMethod.POST,\n",
    "    body_parameters = request_body\n",
    ")\n",
    "\n",
    "print(json.dumps(response.data.raw, indent=2))\n"
   ]
  },
  {
   "cell_type": "markdown",
   "id": "cf6ac962-0ba7-4f06-b174-9486f0469ee5",
   "metadata": {},
   "source": [
    "If you get a reponse which says something like:   \n",
    "    <p>*'code': 'insufficient_scope', 'message': 'access denied.*   </p>\n",
    "this means your are not licenced to use the Symbology API - Please speak to your Refinitiv Account team"
   ]
  },
  {
   "cell_type": "code",
   "execution_count": null,
   "id": "4a530522",
   "metadata": {},
   "outputs": [],
   "source": [
    "# Extract the data from the response\n",
    "mydata = response.data.raw['data']"
   ]
  },
  {
   "cell_type": "code",
   "execution_count": null,
   "id": "0b2b1b3c",
   "metadata": {},
   "outputs": [],
   "source": [
    "# Check results to see if conversion to Primary RIC failed for any ISINs\n",
    "no_primary =[]\n",
    "print('ISIN\\t\\tRIC')\n",
    "for symbol in mydata:\n",
    "    if symbol['output']:\n",
    "        print(symbol['input'][0]['value'], symbol['output'][0]['value'])\n",
    "    else:\n",
    "        print(symbol['input'][0]['value'], \"No Match\")\n",
    "        no_primary.append(symbol['input'][0]['value'])\n"
   ]
  },
  {
   "cell_type": "code",
   "execution_count": null,
   "id": "8ca52f78",
   "metadata": {},
   "outputs": [],
   "source": [
    "# Output list of ISINs with no Primary RIC\n",
    "display(no_primary)"
   ]
  },
  {
   "cell_type": "markdown",
   "id": "d61d4458-bb2e-4236-89dc-074de4a1dfbb",
   "metadata": {},
   "source": [
    "#### Try and match with non-Primary RICs\n",
    "For many ISINs, we can expect to get back multiple RICs per ISIN  i.e. not a 1 to 1 relationship"
   ]
  },
  {
   "cell_type": "code",
   "execution_count": null,
   "id": "0ef66121",
   "metadata": {},
   "outputs": [],
   "source": [
    "request_body={\n",
    "  \"from\": [\n",
    "    {\n",
    "      \"identifierTypes\": [\n",
    "        \"ISIN\"\n",
    "      ],\n",
    "      \"values\": no_primary\n",
    "    }\n",
    "  ],\n",
    "  \"to\": [\n",
    "    {\n",
    "      \"identifierTypes\": [\n",
    "        \"RIC\"\n",
    "      ]\n",
    "    }\n",
    "  ],\n",
    "  \"type\": \"auto\"\n",
    "}\n",
    "\n",
    "response = symbologylookup_endpoint.send_request(\n",
    "    method = rdp.Endpoint.RequestMethod.POST,\n",
    "    body_parameters = request_body\n",
    ")\n",
    "\n",
    "print(json.dumps(response.data.raw, indent=2))"
   ]
  },
  {
   "cell_type": "code",
   "execution_count": null,
   "id": "b45868f1",
   "metadata": {},
   "outputs": [],
   "source": [
    "mydata = response.data.raw['data']"
   ]
  },
  {
   "cell_type": "markdown",
   "id": "dc2f49cc-c330-43fa-ba0c-e9f7f8199668",
   "metadata": {},
   "source": [
    "#### Output the first matching RIC for each ISIN\n",
    "NOTE: The first matching RIC may not always be the one you require - you can contact the [My.Refinitiv Content Helpdesk](https://my.refinitiv.com/content/mytr/en/productsupport.html) for assistance with selecting the most appropriate RIC."
   ]
  },
  {
   "cell_type": "code",
   "execution_count": null,
   "id": "6de81645",
   "metadata": {},
   "outputs": [],
   "source": [
    "\n",
    "print('ISIN\\t\\tRIC')\n",
    "for symbol in mydata:\n",
    "    if len(symbol['output'])==0:\n",
    "        print(symbol['input'][0]['value'], \"No Match\")\n",
    "    else:\n",
    "        print(symbol['input'][0]['value'], symbol['output'][0]['value'])\n",
    "        "
   ]
  },
  {
   "cell_type": "code",
   "execution_count": null,
   "id": "71eb383e",
   "metadata": {},
   "outputs": [],
   "source": [
    "session.close()"
   ]
  },
  {
   "cell_type": "code",
   "execution_count": null,
   "id": "a60b2cee-4100-4528-8324-c7103d1e3255",
   "metadata": {},
   "outputs": [],
   "source": []
  }
 ],
 "metadata": {
  "interpreter": {
   "hash": "c9d0ba8bcbd241f2489ebf414b697f4da97fdaa23a788322be3c16d8ba14c9ef"
  },
  "kernelspec": {
   "display_name": "Python 3",
   "language": "python",
   "name": "python3"
  },
  "language_info": {
   "codemirror_mode": {
    "name": "ipython",
    "version": 3
   },
   "file_extension": ".py",
   "mimetype": "text/x-python",
   "name": "python",
   "nbconvert_exporter": "python",
   "pygments_lexer": "ipython3",
   "version": "3.8.10"
  }
 },
 "nbformat": 4,
 "nbformat_minor": 5
}
